{
  "cells": [
    {
      "metadata": {
        "_uuid": "8ec839b470bc391ef073c6467a71f09e67e1a44a"
      },
      "cell_type": "markdown",
      "source": "### import required libraries"
    },
    {
      "metadata": {
        "_uuid": "8f2839f25d086af736a60e9eeb907d3b93b6e0e5",
        "_cell_guid": "b1076dfc-b9ad-4769-8c92-a6c4dae69d19",
        "trusted": true
      },
      "cell_type": "code",
      "source": "import keras\nfrom keras.models import Sequential\nfrom keras.layers import Conv2D,MaxPooling2D,Dropout\nfrom keras.layers import Dense,Activation,Flatten\nfrom keras.utils import multi_gpu_model\nfrom keras import backend as K\nimport numpy as np # linear algebra\nimport pandas as pd # data processing, CSV file I/O (e.g. pd.read_csv)\nfrom numpy import argmax\nimport matplotlib.pyplot as plt\nimport os\nprint(os.listdir(\"../input\"))\n",
      "execution_count": 3,
      "outputs": [
        {
          "output_type": "stream",
          "text": "['hw2q3test.csv', 'hw2q3unlabeled.csv', 'hw2q3train.csv']\n",
          "name": "stdout"
        }
      ]
    },
    {
      "metadata": {
        "trusted": true,
        "_uuid": "c82ce2adf9ec77936784853ae3045d85a136aa97"
      },
      "cell_type": "markdown",
      "source": "### load the training and test dataset"
    },
    {
      "metadata": {
        "_cell_guid": "79c7e3d0-c299-4dcb-8224-4455121ee9b0",
        "_uuid": "d629ff2d2480ee46fbb7e2d37f6b5fab8052498a",
        "trusted": true
      },
      "cell_type": "code",
      "source": "data=pd.read_csv(\"../input/hw2q3train.csv\")    #training dataset using pandas \ntest_data=pd.read_csv(\"../input/hw2q3test.csv\")  #test dataset \" \"\"\"\"\"\"\"\"\"\"",
      "execution_count": 4,
      "outputs": []
    },
    {
      "metadata": {
        "trusted": true,
        "_uuid": "7e18d752beff86832ab9c6c2f4842c08c1c5731e"
      },
      "cell_type": "code",
      "source": "train=np.array(data)        #convert training dataset into numpy array from the pandas dataframe\ntrain.shape",
      "execution_count": 5,
      "outputs": [
        {
          "output_type": "execute_result",
          "execution_count": 5,
          "data": {
            "text/plain": "(60000, 785)"
          },
          "metadata": {}
        }
      ]
    },
    {
      "metadata": {
        "trusted": true,
        "_uuid": "dcb35fc24630f87bc84ebd4d1ed35701d9c0c6fc"
      },
      "cell_type": "code",
      "source": "x_train=train[:,1:]         #training features\ny_train=train[:,0]          #training labels",
      "execution_count": 6,
      "outputs": []
    },
    {
      "metadata": {
        "trusted": true,
        "_uuid": "c2b8f250e1e7f77d036dc717d650077b104b1a94"
      },
      "cell_type": "code",
      "source": "test=np.array(test_data)      #convert test dataset into numpy array from pandas dataframe\ntest.shape",
      "execution_count": 7,
      "outputs": [
        {
          "output_type": "execute_result",
          "execution_count": 7,
          "data": {
            "text/plain": "(10000, 785)"
          },
          "metadata": {}
        }
      ]
    },
    {
      "metadata": {
        "trusted": true,
        "_uuid": "73941516482c05853cd84297ab3238e1b8b2d843"
      },
      "cell_type": "code",
      "source": "x_test=test[:,1:]         #test features values\ny_test=test[:,0]          #test labels",
      "execution_count": 8,
      "outputs": []
    },
    {
      "metadata": {
        "trusted": true,
        "_uuid": "ea8b8e6ffc839da90b10a331180125185936ce8a"
      },
      "cell_type": "code",
      "source": "print(\"no of training examples:\",x_train.shape[0])\nprint(\"no of test examples:\",x_test.shape[0])",
      "execution_count": 9,
      "outputs": [
        {
          "output_type": "stream",
          "text": "no of training examples: 60000\nno of test examples: 10000\n",
          "name": "stdout"
        }
      ]
    },
    {
      "metadata": {
        "trusted": true,
        "_uuid": "175368cc59ecab5dc71c235103e8bbaa83f555cd"
      },
      "cell_type": "code",
      "source": "length=x_train.shape[0]\nxx_train=[]\nfor i in range(length):\n    t=x_train[i,:]\n    t=t.reshape(28,28)\n    xx_train.append(t)\nxx_train=np.array(xx_train)",
      "execution_count": 10,
      "outputs": []
    },
    {
      "metadata": {
        "trusted": true,
        "_uuid": "443097679bffa72347ea137502af8caeaa5c9e39"
      },
      "cell_type": "code",
      "source": "length=x_test.shape[0]\n#print(length)\nxx_test=[]\nfor i in range(length):\n    t=x_test[i,:]\n    t=t.reshape(28,28)\n    xx_test.append(t)\nxx_test=np.array(xx_test)",
      "execution_count": 11,
      "outputs": []
    },
    {
      "metadata": {
        "trusted": true,
        "_uuid": "c6af627c87be90b713dde3f6ae74f69f1546467e"
      },
      "cell_type": "code",
      "source": "print(xx_train.shape)\nprint(xx_test.shape)\n\n#plt.imshow(xx_train[7])  #display the random image from training dataset\nplt.imshow(xx_train[199])",
      "execution_count": 12,
      "outputs": [
        {
          "output_type": "stream",
          "text": "(60000, 28, 28)\n(10000, 28, 28)\n",
          "name": "stdout"
        },
        {
          "output_type": "execute_result",
          "execution_count": 12,
          "data": {
            "text/plain": "<matplotlib.image.AxesImage at 0x7fbc6ce06358>"
          },
          "metadata": {}
        },
        {
          "output_type": "display_data",
          "data": {
            "text/plain": "<Figure size 432x288 with 1 Axes>",
            "image/png": "[encoded data removed]"
          },
          "metadata": {}
        }
      ]
    },
    {
      "metadata": {
        "_uuid": "f92cd6c7b7a5af673d50c3ee043edba0be3fc3ac"
      },
      "cell_type": "markdown",
      "source": "### normalize the training and test features"
    },
    {
      "metadata": {
        "trusted": true,
        "_uuid": "d35afbd1b49b4c8f745edee7f3324168a723a205"
      },
      "cell_type": "code",
      "source": "xx_train=xx_train/255\nxx_test=xx_test/255\nxx_train.shape",
      "execution_count": 13,
      "outputs": [
        {
          "output_type": "execute_result",
          "execution_count": 13,
          "data": {
            "text/plain": "(60000, 28, 28)"
          },
          "metadata": {}
        }
      ]
    },
    {
      "metadata": {
        "_uuid": "e8a0fd17b81e843c84af257a0529e958db728415"
      },
      "cell_type": "markdown",
      "source": "### split the training  data between training and validataion data"
    },
    {
      "metadata": {
        "trusted": true,
        "_uuid": "1534a27568e12758f9f7469077be03dd67d9af7b"
      },
      "cell_type": "code",
      "source": "xx_train,x_valid=xx_train[:50000],xx_train[50000:]\ny_train,y_valid=y_train[:50000],y_train[50000:]\nprint(\"no of traiing set:\",xx_train.shape[0])\nprint(' no of valid set:',x_valid.shape[0])",
      "execution_count": 14,
      "outputs": [
        {
          "output_type": "stream",
          "text": "no of traiing set: 50000\n no of valid set: 10000\n",
          "name": "stdout"
        }
      ]
    },
    {
      "metadata": {
        "_uuid": "0ee53949e9c479289757e01f2064238ab12627ca"
      },
      "cell_type": "markdown",
      "source": "### Converts a class vector (integers) to binary class matrix."
    },
    {
      "metadata": {
        "trusted": true,
        "_uuid": "6e8f6e2f6d0bfbe23655a0d63100addfa5511b9d"
      },
      "cell_type": "code",
      "source": "y_train = keras.utils.to_categorical(y_train, 10)\ny_valid = keras.utils.to_categorical(y_valid, 10)\n",
      "execution_count": 15,
      "outputs": []
    },
    {
      "metadata": {
        "trusted": true,
        "_uuid": "6c64d97b58866c32af689284b36939406d6ac585"
      },
      "cell_type": "code",
      "source": "y_test = keras.utils.to_categorical(y_test, 10)",
      "execution_count": 32,
      "outputs": []
    },
    {
      "metadata": {
        "trusted": true,
        "_uuid": "b60a157842ffe85f0dd02018a42f804e89941ccd"
      },
      "cell_type": "code",
      "source": "xx_train=xx_train.reshape(xx_train.shape[0],28,28,1)\nx_valid=x_valid.reshape(x_valid.shape[0],28,28,1)\nxx_test=xx_test.reshape(xx_test.shape[0],28,28,1)",
      "execution_count": 17,
      "outputs": []
    },
    {
      "metadata": {
        "_uuid": "033e2fa21060408d86c805e37c8f5980c19fcd9a"
      },
      "cell_type": "markdown",
      "source": "### create the neural architecture"
    },
    {
      "metadata": {
        "trusted": true,
        "_uuid": "70d7bd544f445c5fa5849f0de787a15f1703a21f"
      },
      "cell_type": "code",
      "source": "model=Sequential()\nmodel.add(Conv2D(64,kernel_size=2,strides=1,padding='same',activation='relu',input_shape=(28,28,1)))\nmodel.add(MaxPooling2D(2))\nmodel.add(Dropout(0.3))\nmodel.add(Conv2D(32,kernel_size=2,strides=1,padding='same',activation='relu'))\nmodel.add(MaxPooling2D(1))\nmodel.add(Dropout(0.3))\nmodel.add(Flatten())\n",
      "execution_count": 18,
      "outputs": []
    },
    {
      "metadata": {
        "trusted": true,
        "_uuid": "fca4511ce15a8c6d09074824d72dbcc92bf8f407"
      },
      "cell_type": "code",
      "source": "model.add(Dense(256,activation='relu'))\nmodel.add(Dropout(0.3))\nmodel.add(Dense(256,activation='relu'))\nmodel.add(Dropout(0.3))\n\nmodel.add(Dense(10,activation='softmax'))",
      "execution_count": 19,
      "outputs": []
    },
    {
      "metadata": {
        "trusted": true,
        "_uuid": "15851eb323bcce0d1cd57b9f2c15eb1ecec408e3"
      },
      "cell_type": "code",
      "source": "model.summary()",
      "execution_count": 20,
      "outputs": [
        {
          "output_type": "stream",
          "text": "_________________________________________________________________\nLayer (type)                 Output Shape              Param #   \n=================================================================\nconv2d_1 (Conv2D)            (None, 28, 28, 64)        320       \n_________________________________________________________________\nmax_pooling2d_1 (MaxPooling2 (None, 14, 14, 64)        0         \n_________________________________________________________________\ndropout_1 (Dropout)          (None, 14, 14, 64)        0         \n_________________________________________________________________\nconv2d_2 (Conv2D)            (None, 14, 14, 32)        8224      \n_________________________________________________________________\nmax_pooling2d_2 (MaxPooling2 (None, 14, 14, 32)        0         \n_________________________________________________________________\ndropout_2 (Dropout)          (None, 14, 14, 32)        0         \n_________________________________________________________________\nflatten_1 (Flatten)          (None, 6272)              0         \n_________________________________________________________________\ndense_1 (Dense)              (None, 256)               1605888   \n_________________________________________________________________\ndropout_3 (Dropout)          (None, 256)               0         \n_________________________________________________________________\ndense_2 (Dense)              (None, 256)               65792     \n_________________________________________________________________\ndropout_4 (Dropout)          (None, 256)               0         \n_________________________________________________________________\ndense_3 (Dense)              (None, 10)                2570      \n=================================================================\nTotal params: 1,682,794\nTrainable params: 1,682,794\nNon-trainable params: 0\n_________________________________________________________________\n",
          "name": "stdout"
        }
      ]
    },
    {
      "metadata": {
        "trusted": true,
        "_uuid": "0a74c549411a018cc5be6470ea914813da714cdb"
      },
      "cell_type": "code",
      "source": "model.compile(optimizer='adam',loss='categorical_crossentropy',metrics=['accuracy'])",
      "execution_count": 21,
      "outputs": []
    },
    {
      "metadata": {
        "trusted": true,
        "_uuid": "5a206a3c24e8f2df6f6bd6e7a655ff6353f6e16b",
        "scrolled": true
      },
      "cell_type": "code",
      "source": "score=model.fit(xx_train,y_train,epochs=10,batch_size=256,validation_data=[x_valid,y_valid])",
      "execution_count": 22,
      "outputs": [
        {
          "output_type": "stream",
          "text": "Train on 50000 samples, validate on 10000 samples\nEpoch 1/10\n50000/50000 [==============================] - 7s 144us/step - loss: 0.6607 - acc: 0.7551 - val_loss: 0.3819 - val_acc: 0.8569\nEpoch 2/10\n50000/50000 [==============================] - 5s 102us/step - loss: 0.3943 - acc: 0.8588 - val_loss: 0.3306 - val_acc: 0.8776\nEpoch 3/10\n50000/50000 [==============================] - 5s 102us/step - loss: 0.3405 - acc: 0.8759 - val_loss: 0.2920 - val_acc: 0.8908\nEpoch 4/10\n50000/50000 [==============================] - 5s 102us/step - loss: 0.3091 - acc: 0.8872 - val_loss: 0.2704 - val_acc: 0.8971\nEpoch 5/10\n50000/50000 [==============================] - 5s 102us/step - loss: 0.2846 - acc: 0.8949 - val_loss: 0.2625 - val_acc: 0.9006\nEpoch 6/10\n50000/50000 [==============================] - 5s 102us/step - loss: 0.2636 - acc: 0.9030 - val_loss: 0.2515 - val_acc: 0.9078\nEpoch 7/10\n50000/50000 [==============================] - 5s 102us/step - loss: 0.2464 - acc: 0.9077 - val_loss: 0.2424 - val_acc: 0.9124\nEpoch 8/10\n50000/50000 [==============================] - 5s 102us/step - loss: 0.2274 - acc: 0.9153 - val_loss: 0.2281 - val_acc: 0.9162\nEpoch 9/10\n50000/50000 [==============================] - 5s 102us/step - loss: 0.2180 - acc: 0.9192 - val_loss: 0.2224 - val_acc: 0.9199\nEpoch 10/10\n50000/50000 [==============================] - 5s 102us/step - loss: 0.2065 - acc: 0.9228 - val_loss: 0.2226 - val_acc: 0.9178\n",
          "name": "stdout"
        }
      ]
    },
    {
      "metadata": {
        "trusted": true,
        "_uuid": "82fd9ece1bbed3e34571de7be9cbfaf74c9f7839"
      },
      "cell_type": "code",
      "source": "history=model.evaluate(xx_test,y_test,batch_size=256)",
      "execution_count": 23,
      "outputs": [
        {
          "output_type": "stream",
          "text": "10000/10000 [==============================] - 0s 32us/step\n",
          "name": "stdout"
        }
      ]
    },
    {
      "metadata": {
        "trusted": true,
        "_uuid": "a331f7add7d63fc90eb9ebe528b6b63512de44e4"
      },
      "cell_type": "code",
      "source": "print(\"test_accuracy:\",history[1])        #accuracy on test dataset",
      "execution_count": 24,
      "outputs": [
        {
          "output_type": "stream",
          "text": "test_accuracy: 0.9157\n",
          "name": "stdout"
        }
      ]
    },
    {
      "metadata": {
        "trusted": true,
        "_uuid": "93eede2b15c99108c20c285e63e136521460441c"
      },
      "cell_type": "code",
      "source": "y_pred=model.predict(xx_test)    ",
      "execution_count": 28,
      "outputs": []
    },
    {
      "metadata": {
        "trusted": true,
        "_uuid": "1545f868ba677ba42f0278d6f8b6f13c4b2c57c7"
      },
      "cell_type": "code",
      "source": "y_test.shape",
      "execution_count": 33,
      "outputs": [
        {
          "output_type": "execute_result",
          "execution_count": 33,
          "data": {
            "text/plain": "(10000, 10)"
          },
          "metadata": {}
        }
      ]
    },
    {
      "metadata": {
        "trusted": true,
        "_uuid": "e99a264e8daf4e6abb796a689d7a9e69450e929d"
      },
      "cell_type": "code",
      "source": "y_pred=argmax(y_pred,axis=1)\ny_test=argmax(y_test,axis=1)",
      "execution_count": 34,
      "outputs": []
    },
    {
      "metadata": {
        "_uuid": "c1f6330b9afaf248d2e7ba92c055e8208bb4c6c3"
      },
      "cell_type": "markdown",
      "source": "### import scikit learn libraries to create confusion matrix"
    },
    {
      "metadata": {
        "trusted": true,
        "_uuid": "24e5a9bf8fe0f416876f463db878676d2bfded40"
      },
      "cell_type": "code",
      "source": "from sklearn.metrics import confusion_matrix \nfrom sklearn.metrics import accuracy_score \nfrom sklearn.metrics import classification_report",
      "execution_count": 35,
      "outputs": []
    },
    {
      "metadata": {
        "trusted": true,
        "_uuid": "f80d8cd96a89b8671d7e044a1d4a3f8f252478f9"
      },
      "cell_type": "code",
      "source": "matrix=confusion_matrix(y_test,y_pred,labels=[0,1,2,3,4,5,6,7,8,9])",
      "execution_count": 36,
      "outputs": []
    },
    {
      "metadata": {
        "trusted": true,
        "_uuid": "e2fc21e24b7138fd82e0e01df1864a80ef811c56"
      },
      "cell_type": "code",
      "source": "matrix",
      "execution_count": 37,
      "outputs": [
        {
          "output_type": "execute_result",
          "execution_count": 37,
          "data": {
            "text/plain": "array([[825,   0,  17,  21,   3,   1, 125,   0,   7,   1],\n       [  0, 974,   0,  20,   3,   0,   1,   0,   2,   0],\n       [ 11,   1, 852,   9,  50,   0,  77,   0,   0,   0],\n       [  6,   3,   7, 940,  18,   0,  22,   0,   4,   0],\n       [  0,   1,  28,  34, 886,   0,  51,   0,   0,   0],\n       [  0,   0,   0,   0,   0, 981,   0,  12,   0,   7],\n       [ 64,   0,  44,  34,  68,   0, 784,   0,   6,   0],\n       [  0,   0,   0,   0,   0,   5,   0, 980,   0,  15],\n       [  2,   2,   0,   4,   1,   2,   2,   4, 983,   0],\n       [  0,   0,   0,   0,   0,   4,   1,  43,   0, 952]])"
          },
          "metadata": {}
        }
      ]
    },
    {
      "metadata": {
        "trusted": true,
        "_uuid": "483fbceaf2a6505f0f0befd8900b611b63395267"
      },
      "cell_type": "code",
      "source": "y_pred[6]\n",
      "execution_count": 39,
      "outputs": [
        {
          "output_type": "execute_result",
          "execution_count": 39,
          "data": {
            "text/plain": "4"
          },
          "metadata": {}
        }
      ]
    },
    {
      "metadata": {
        "trusted": true,
        "_uuid": "5b3c72ed493ca5c1b264be60b3e142500f82b715"
      },
      "cell_type": "code",
      "source": "y_test[6]",
      "execution_count": 40,
      "outputs": [
        {
          "output_type": "execute_result",
          "execution_count": 40,
          "data": {
            "text/plain": "4"
          },
          "metadata": {}
        }
      ]
    },
    {
      "metadata": {
        "_uuid": "aee8f7d35ea72902ad0936b92ce5a9885fa8db38"
      },
      "cell_type": "markdown",
      "source": "### load the unlabeled dataset"
    },
    {
      "metadata": {
        "trusted": true,
        "_uuid": "f9695945ad6057cfcb460710a08e2554e9e55305"
      },
      "cell_type": "code",
      "source": "unlabel_data=pd.read_csv(\"../input/hw2q3unlabeled.csv\")\nunlabel=np.array(unlabel_data)\nunlabel.shape",
      "execution_count": 42,
      "outputs": [
        {
          "output_type": "execute_result",
          "execution_count": 42,
          "data": {
            "text/plain": "(50, 785)"
          },
          "metadata": {}
        }
      ]
    },
    {
      "metadata": {
        "trusted": true,
        "_uuid": "398c3ac217ee8834db8ee617dfd65e686609986c"
      },
      "cell_type": "code",
      "source": "x_unlabels=unlabel[:,1:]\nlength=x_unlabels.shape[0]\nx_labels=[]\nfor i in range(length):\n    t=x_unlabels[i,:]\n    t=t.reshape(28,28)\n    x_labels.append(t)\nx_labels=np.array(x_labels)",
      "execution_count": 43,
      "outputs": []
    },
    {
      "metadata": {
        "trusted": true,
        "_uuid": "cab22a6e5512ec69ded6ab63730118d3aea713ba"
      },
      "cell_type": "code",
      "source": "x_labels=x_labels.reshape(x_labels.shape[0],28,28,1)",
      "execution_count": 44,
      "outputs": []
    },
    {
      "metadata": {
        "trusted": true,
        "_uuid": "42ab9a0eadd88f798203c5596f068109f53b4f71"
      },
      "cell_type": "code",
      "source": "y_labels=model.predict(x_labels)",
      "execution_count": 45,
      "outputs": []
    },
    {
      "metadata": {
        "trusted": true,
        "_uuid": "6ce3b26020cd0887689bd6d344282529287064ec"
      },
      "cell_type": "code",
      "source": "y_labels=argmax(y_labels,axis=1)",
      "execution_count": 46,
      "outputs": []
    },
    {
      "metadata": {
        "trusted": true,
        "_uuid": "07af8d67a10fdd7f37da4adce2ff6f71c6dc3536"
      },
      "cell_type": "code",
      "source": "pd.DataFrame(y_labels).to_csv(\"o_p.csv\",index=False)",
      "execution_count": 48,
      "outputs": []
    },
    {
      "metadata": {
        "trusted": true,
        "_uuid": "23b7ce2671a1ddfdc52b33086541acc8f23fa3ab"
      },
      "cell_type": "code",
      "source": "t=pd.read_csv('o_p.csv')\nt",
      "execution_count": 50,
      "outputs": [
        {
          "output_type": "execute_result",
          "execution_count": 50,
          "data": {
            "text/plain": "    0\n0   6\n1   6\n2   0\n3   0\n4   0\n5   1\n6   1\n7   1\n8   1\n9   1\n10  3\n11  6\n12  2\n13  6\n14  2\n15  3\n16  3\n17  3\n18  3\n19  3\n20  4\n21  4\n22  4\n23  4\n24  4\n25  5\n26  5\n27  5\n28  5\n29  5\n30  6\n31  6\n32  6\n33  6\n34  6\n35  7\n36  7\n37  7\n38  7\n39  7\n40  8\n41  8\n42  8\n43  8\n44  8\n45  9\n46  9\n47  9\n48  9\n49  9",
            "text/html": "<div>\n<style scoped>\n    .dataframe tbody tr th:only-of-type {\n        vertical-align: middle;\n    }\n\n    .dataframe tbody tr th {\n        vertical-align: top;\n    }\n\n    .dataframe thead th {\n        text-align: right;\n    }\n</style>\n<table border=\"1\" class=\"dataframe\">\n  <thead>\n    <tr style=\"text-align: right;\">\n      <th></th>\n      <th>0</th>\n    </tr>\n  </thead>\n  <tbody>\n    <tr>\n      <th>0</th>\n      <td>6</td>\n    </tr>\n    <tr>\n      <th>1</th>\n      <td>6</td>\n    </tr>\n    <tr>\n      <th>2</th>\n      <td>0</td>\n    </tr>\n    <tr>\n      <th>3</th>\n      <td>0</td>\n    </tr>\n    <tr>\n      <th>4</th>\n      <td>0</td>\n    </tr>\n    <tr>\n      <th>5</th>\n      <td>1</td>\n    </tr>\n    <tr>\n      <th>6</th>\n      <td>1</td>\n    </tr>\n    <tr>\n      <th>7</th>\n      <td>1</td>\n    </tr>\n    <tr>\n      <th>8</th>\n      <td>1</td>\n    </tr>\n    <tr>\n      <th>9</th>\n      <td>1</td>\n    </tr>\n    <tr>\n      <th>10</th>\n      <td>3</td>\n    </tr>\n    <tr>\n      <th>11</th>\n      <td>6</td>\n    </tr>\n    <tr>\n      <th>12</th>\n      <td>2</td>\n    </tr>\n    <tr>\n      <th>13</th>\n      <td>6</td>\n    </tr>\n    <tr>\n      <th>14</th>\n      <td>2</td>\n    </tr>\n    <tr>\n      <th>15</th>\n      <td>3</td>\n    </tr>\n    <tr>\n      <th>16</th>\n      <td>3</td>\n    </tr>\n    <tr>\n      <th>17</th>\n      <td>3</td>\n    </tr>\n    <tr>\n      <th>18</th>\n      <td>3</td>\n    </tr>\n    <tr>\n      <th>19</th>\n      <td>3</td>\n    </tr>\n    <tr>\n      <th>20</th>\n      <td>4</td>\n    </tr>\n    <tr>\n      <th>21</th>\n      <td>4</td>\n    </tr>\n    <tr>\n      <th>22</th>\n      <td>4</td>\n    </tr>\n    <tr>\n      <th>23</th>\n      <td>4</td>\n    </tr>\n    <tr>\n      <th>24</th>\n      <td>4</td>\n    </tr>\n    <tr>\n      <th>25</th>\n      <td>5</td>\n    </tr>\n    <tr>\n      <th>26</th>\n      <td>5</td>\n    </tr>\n    <tr>\n      <th>27</th>\n      <td>5</td>\n    </tr>\n    <tr>\n      <th>28</th>\n      <td>5</td>\n    </tr>\n    <tr>\n      <th>29</th>\n      <td>5</td>\n    </tr>\n    <tr>\n      <th>30</th>\n      <td>6</td>\n    </tr>\n    <tr>\n      <th>31</th>\n      <td>6</td>\n    </tr>\n    <tr>\n      <th>32</th>\n      <td>6</td>\n    </tr>\n    <tr>\n      <th>33</th>\n      <td>6</td>\n    </tr>\n    <tr>\n      <th>34</th>\n      <td>6</td>\n    </tr>\n    <tr>\n      <th>35</th>\n      <td>7</td>\n    </tr>\n    <tr>\n      <th>36</th>\n      <td>7</td>\n    </tr>\n    <tr>\n      <th>37</th>\n      <td>7</td>\n    </tr>\n    <tr>\n      <th>38</th>\n      <td>7</td>\n    </tr>\n    <tr>\n      <th>39</th>\n      <td>7</td>\n    </tr>\n    <tr>\n      <th>40</th>\n      <td>8</td>\n    </tr>\n    <tr>\n      <th>41</th>\n      <td>8</td>\n    </tr>\n    <tr>\n      <th>42</th>\n      <td>8</td>\n    </tr>\n    <tr>\n      <th>43</th>\n      <td>8</td>\n    </tr>\n    <tr>\n      <th>44</th>\n      <td>8</td>\n    </tr>\n    <tr>\n      <th>45</th>\n      <td>9</td>\n    </tr>\n    <tr>\n      <th>46</th>\n      <td>9</td>\n    </tr>\n    <tr>\n      <th>47</th>\n      <td>9</td>\n    </tr>\n    <tr>\n      <th>48</th>\n      <td>9</td>\n    </tr>\n    <tr>\n      <th>49</th>\n      <td>9</td>\n    </tr>\n  </tbody>\n</table>\n</div>"
          },
          "metadata": {}
        }
      ]
    },
    {
      "metadata": {
        "trusted": true,
        "_uuid": "0faec249514946ce28ffd7f2949fbd1220786c54"
      },
      "cell_type": "code",
      "source": "pd.DataFrame(matrix).to_csv(\"cf.csv\",index=False)",
      "execution_count": 51,
      "outputs": []
    },
    {
      "metadata": {
        "trusted": true,
        "_uuid": "b9ea5301e224d6b4412c94104fb7a38e25410353"
      },
      "cell_type": "code",
      "source": "m=pd.read_csv('cf.csv')",
      "execution_count": 52,
      "outputs": []
    },
    {
      "metadata": {
        "trusted": true,
        "_uuid": "83906eff778d1cc7456971f26f33d5d62a655e0c"
      },
      "cell_type": "code",
      "source": "m",
      "execution_count": 53,
      "outputs": [
        {
          "output_type": "execute_result",
          "execution_count": 53,
          "data": {
            "text/plain": "     0    1    2    3    4    5    6    7    8    9\n0  825    0   17   21    3    1  125    0    7    1\n1    0  974    0   20    3    0    1    0    2    0\n2   11    1  852    9   50    0   77    0    0    0\n3    6    3    7  940   18    0   22    0    4    0\n4    0    1   28   34  886    0   51    0    0    0\n5    0    0    0    0    0  981    0   12    0    7\n6   64    0   44   34   68    0  784    0    6    0\n7    0    0    0    0    0    5    0  980    0   15\n8    2    2    0    4    1    2    2    4  983    0\n9    0    0    0    0    0    4    1   43    0  952",
            "text/html": "<div>\n<style scoped>\n    .dataframe tbody tr th:only-of-type {\n        vertical-align: middle;\n    }\n\n    .dataframe tbody tr th {\n        vertical-align: top;\n    }\n\n    .dataframe thead th {\n        text-align: right;\n    }\n</style>\n<table border=\"1\" class=\"dataframe\">\n  <thead>\n    <tr style=\"text-align: right;\">\n      <th></th>\n      <th>0</th>\n      <th>1</th>\n      <th>2</th>\n      <th>3</th>\n      <th>4</th>\n      <th>5</th>\n      <th>6</th>\n      <th>7</th>\n      <th>8</th>\n      <th>9</th>\n    </tr>\n  </thead>\n  <tbody>\n    <tr>\n      <th>0</th>\n      <td>825</td>\n      <td>0</td>\n      <td>17</td>\n      <td>21</td>\n      <td>3</td>\n      <td>1</td>\n      <td>125</td>\n      <td>0</td>\n      <td>7</td>\n      <td>1</td>\n    </tr>\n    <tr>\n      <th>1</th>\n      <td>0</td>\n      <td>974</td>\n      <td>0</td>\n      <td>20</td>\n      <td>3</td>\n      <td>0</td>\n      <td>1</td>\n      <td>0</td>\n      <td>2</td>\n      <td>0</td>\n    </tr>\n    <tr>\n      <th>2</th>\n      <td>11</td>\n      <td>1</td>\n      <td>852</td>\n      <td>9</td>\n      <td>50</td>\n      <td>0</td>\n      <td>77</td>\n      <td>0</td>\n      <td>0</td>\n      <td>0</td>\n    </tr>\n    <tr>\n      <th>3</th>\n      <td>6</td>\n      <td>3</td>\n      <td>7</td>\n      <td>940</td>\n      <td>18</td>\n      <td>0</td>\n      <td>22</td>\n      <td>0</td>\n      <td>4</td>\n      <td>0</td>\n    </tr>\n    <tr>\n      <th>4</th>\n      <td>0</td>\n      <td>1</td>\n      <td>28</td>\n      <td>34</td>\n      <td>886</td>\n      <td>0</td>\n      <td>51</td>\n      <td>0</td>\n      <td>0</td>\n      <td>0</td>\n    </tr>\n    <tr>\n      <th>5</th>\n      <td>0</td>\n      <td>0</td>\n      <td>0</td>\n      <td>0</td>\n      <td>0</td>\n      <td>981</td>\n      <td>0</td>\n      <td>12</td>\n      <td>0</td>\n      <td>7</td>\n    </tr>\n    <tr>\n      <th>6</th>\n      <td>64</td>\n      <td>0</td>\n      <td>44</td>\n      <td>34</td>\n      <td>68</td>\n      <td>0</td>\n      <td>784</td>\n      <td>0</td>\n      <td>6</td>\n      <td>0</td>\n    </tr>\n    <tr>\n      <th>7</th>\n      <td>0</td>\n      <td>0</td>\n      <td>0</td>\n      <td>0</td>\n      <td>0</td>\n      <td>5</td>\n      <td>0</td>\n      <td>980</td>\n      <td>0</td>\n      <td>15</td>\n    </tr>\n    <tr>\n      <th>8</th>\n      <td>2</td>\n      <td>2</td>\n      <td>0</td>\n      <td>4</td>\n      <td>1</td>\n      <td>2</td>\n      <td>2</td>\n      <td>4</td>\n      <td>983</td>\n      <td>0</td>\n    </tr>\n    <tr>\n      <th>9</th>\n      <td>0</td>\n      <td>0</td>\n      <td>0</td>\n      <td>0</td>\n      <td>0</td>\n      <td>4</td>\n      <td>1</td>\n      <td>43</td>\n      <td>0</td>\n      <td>952</td>\n    </tr>\n  </tbody>\n</table>\n</div>"
          },
          "metadata": {}
        }
      ]
    },
    {
      "metadata": {
        "trusted": true,
        "_uuid": "02130972582d58a25a488bb799a15d1c3d861ffe"
      },
      "cell_type": "code",
      "source": "",
      "execution_count": null,
      "outputs": []
    }
  ],
  "metadata": {
    "kernelspec": {
      "display_name": "Python 3",
      "language": "python",
      "name": "python3"
    },
    "language_info": {
      "name": "python",
      "version": "3.6.6",
      "mimetype": "text/x-python",
      "codemirror_mode": {
        "name": "ipython",
        "version": 3
      },
      "pygments_lexer": "ipython3",
      "nbconvert_exporter": "python",
      "file_extension": ".py"
    }
  },
  "nbformat": 4,
  "nbformat_minor": 1
}