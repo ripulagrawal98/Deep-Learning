{
 "cells": [
  {
   "cell_type": "markdown",
   "metadata": {},
   "source": [
    "# Hand Gesture Classification using CNN with keras"
   ]
  },
  {
   "cell_type": "markdown",
   "metadata": {},
   "source": [
    "### import all the required libraries"
   ]
  },
  {
   "cell_type": "code",
   "execution_count": 1,
   "metadata": {},
   "outputs": [
    {
     "name": "stderr",
     "output_type": "stream",
     "text": [
      "C:\\Users\\Lenovo\\Anaconda_64\\lib\\site-packages\\h5py\\__init__.py:36: FutureWarning: Conversion of the second argument of issubdtype from `float` to `np.floating` is deprecated. In future, it will be treated as `np.float64 == np.dtype(float).type`.\n",
      "  from ._conv import register_converters as _register_converters\n",
      "Using TensorFlow backend.\n"
     ]
    }
   ],
   "source": [
    "import math\n",
    "import numpy as np\n",
    "import h5py\n",
    "import matplotlib.pyplot as plt\n",
    "import tensorflow as tf\n",
    "from tensorflow.python.framework import ops\n",
    "import keras\n",
    "from keras import backend as K"
   ]
  },
  {
   "cell_type": "code",
   "execution_count": 2,
   "metadata": {},
   "outputs": [],
   "source": [
    "from keras.layers import Dense,Activation,Dropout\n",
    "from keras.layers import Conv2D,MaxPooling2D,Flatten\n",
    "from keras.models import Sequential\n"
   ]
  },
  {
   "cell_type": "markdown",
   "metadata": {},
   "source": [
    "### load the train_signs and test_signs from h5py file"
   ]
  },
  {
   "cell_type": "code",
   "execution_count": 3,
   "metadata": {},
   "outputs": [],
   "source": [
    "train_dataset = h5py.File('train_signs.h5', \"r\")\n",
    "test_dataset =h5py.File('test_signs.h5',\"r\")"
   ]
  },
  {
   "cell_type": "markdown",
   "metadata": {},
   "source": [
    "### get the images set and labesl for training and test set "
   ]
  },
  {
   "cell_type": "code",
   "execution_count": 4,
   "metadata": {},
   "outputs": [],
   "source": [
    "x_train=np.array(train_dataset['train_set_x'][:])\n",
    "y_train=np.array(train_dataset['train_set_y'][:])\n",
    "x_test=np.array(test_dataset['test_set_x'][:])\n",
    "xxx_test=np.array(test_dataset['test_set_x'][:])\n",
    "y_test=np.array(test_dataset['test_set_y'][:])"
   ]
  },
  {
   "cell_type": "code",
   "execution_count": 5,
   "metadata": {},
   "outputs": [
    {
     "data": {
      "text/plain": [
       "array([[0, 1, 2, 3, 4, 5]], dtype=int64)"
      ]
     },
     "execution_count": 5,
     "metadata": {},
     "output_type": "execute_result"
    }
   ],
   "source": [
    "classes = np.array(test_dataset[\"list_classes\"][:])\n",
    "classes=classes.reshape(1,classes.shape[0])\n",
    "classes"
   ]
  },
  {
   "cell_type": "markdown",
   "metadata": {},
   "source": [
    "#### check for one image"
   ]
  },
  {
   "cell_type": "code",
   "execution_count": 6,
   "metadata": {},
   "outputs": [
    {
     "name": "stdout",
     "output_type": "stream",
     "text": [
      "y= 2\n"
     ]
    },
    {
     "data": {
      "image/png": "[encoded data removed]",
      "text/plain": [
       "<Figure size 432x288 with 1 Axes>"
      ]
     },
     "metadata": {},
     "output_type": "display_data"
    }
   ],
   "source": [
    "plt.imshow(x_train[10])\n",
    "print('y=',np.squeeze(y_train[10]))"
   ]
  },
  {
   "cell_type": "markdown",
   "metadata": {},
   "source": [
    "### convert the pixels value for training and test set to lie b/w 0 and 1"
   ]
  },
  {
   "cell_type": "code",
   "execution_count": 7,
   "metadata": {},
   "outputs": [],
   "source": [
    "x_train=x_train/255\n",
    "x_test=x_test/255"
   ]
  },
  {
   "cell_type": "markdown",
   "metadata": {},
   "source": [
    "#### convert class values to binary class metric for trainig and test set"
   ]
  },
  {
   "cell_type": "code",
   "execution_count": 8,
   "metadata": {},
   "outputs": [],
   "source": [
    "y_train=keras.utils.to_categorical(y_train,classes.shape[1])\n",
    "y_test=keras.utils.to_categorical(y_test,classes.shape[1])"
   ]
  },
  {
   "cell_type": "code",
   "execution_count": 9,
   "metadata": {},
   "outputs": [
    {
     "name": "stdout",
     "output_type": "stream",
     "text": [
      "number of training examples = 1080\n",
      "number of test examples = 120\n",
      "X_train shape: (1080, 64, 64, 3)\n",
      "Y_train shape: (1080, 6)\n",
      "X_test shape: (120, 64, 64, 3)\n",
      "Y_test shape: (120, 6)\n"
     ]
    }
   ],
   "source": [
    "print (\"number of training examples = \" + str(x_train.shape[0]))\n",
    "print (\"number of test examples = \" + str(x_test.shape[0]))\n",
    "print (\"X_train shape: \" + str(x_train.shape))\n",
    "print (\"Y_train shape: \" + str(y_train.shape))\n",
    "print (\"X_test shape: \" + str(x_test.shape))\n",
    "print (\"Y_test shape: \" + str(y_test.shape))"
   ]
  },
  {
   "cell_type": "markdown",
   "metadata": {},
   "source": [
    "## create the convolutional neural network architecture\n",
    "### using keras"
   ]
  },
  {
   "cell_type": "code",
   "execution_count": 10,
   "metadata": {},
   "outputs": [],
   "source": [
    "model=Sequential()\n",
    "model.add(Conv2D(8,(4,4),strides=(1,1),padding='same'))\n",
    "model.add(Activation('relu'))\n",
    "\n",
    "model.add(MaxPooling2D((8,8),strides=(8,8),padding='same'))\n",
    "model.add(Conv2D(16,(2,2),strides=(1,1),padding='same'))\n",
    "model.add(Activation('relu'))\n",
    "\n",
    "model.add(MaxPooling2D((4,4),strides=(4,4),padding='same'))\n",
    "model.add(Flatten())\n",
    "\n",
    "model.add(Dense(6,))"
   ]
  },
  {
   "cell_type": "markdown",
   "metadata": {},
   "source": [
    "### add the softmax function at the end of NN architecture to get output equal to no of classes"
   ]
  },
  {
   "cell_type": "code",
   "execution_count": 11,
   "metadata": {},
   "outputs": [],
   "source": [
    "model.add(Activation('softmax'))"
   ]
  },
  {
   "cell_type": "markdown",
   "metadata": {},
   "source": [
    "### compile model calculating loss and accuracy using adam optimzer"
   ]
  },
  {
   "cell_type": "code",
   "execution_count": 12,
   "metadata": {},
   "outputs": [],
   "source": [
    "model.compile(optimizer='adam',loss='categorical_crossentropy',metrics=['accuracy'])"
   ]
  },
  {
   "cell_type": "code",
   "execution_count": 14,
   "metadata": {},
   "outputs": [
    {
     "name": "stdout",
     "output_type": "stream",
     "text": [
      "Train on 1080 samples, validate on 120 samples\n",
      "Epoch 1/140\n",
      "1080/1080 [==============================] - 3s 3ms/step - loss: 0.5003 - acc: 0.8389 - val_loss: 0.6547 - val_acc: 0.7250\n",
      "Epoch 2/140\n",
      "1080/1080 [==============================] - 3s 2ms/step - loss: 0.4902 - acc: 0.8491 - val_loss: 0.6495 - val_acc: 0.7333\n",
      "Epoch 3/140\n",
      "1080/1080 [==============================] - 3s 3ms/step - loss: 0.4862 - acc: 0.8370 - val_loss: 0.6267 - val_acc: 0.7417\n",
      "Epoch 4/140\n",
      "1080/1080 [==============================] - 3s 3ms/step - loss: 0.4822 - acc: 0.8537 - val_loss: 0.6300 - val_acc: 0.7333\n",
      "Epoch 5/140\n",
      "1080/1080 [==============================] - 3s 2ms/step - loss: 0.4782 - acc: 0.8546 - val_loss: 0.6232 - val_acc: 0.7250\n",
      "Epoch 6/140\n",
      "1080/1080 [==============================] - 3s 3ms/step - loss: 0.4702 - acc: 0.8583 - val_loss: 0.6181 - val_acc: 0.7250\n",
      "Epoch 7/140\n",
      "1080/1080 [==============================] - 3s 3ms/step - loss: 0.4687 - acc: 0.8565 - val_loss: 0.6241 - val_acc: 0.7333\n",
      "Epoch 8/140\n",
      "1080/1080 [==============================] - 3s 3ms/step - loss: 0.4901 - acc: 0.8454 - val_loss: 0.6157 - val_acc: 0.7333\n",
      "Epoch 9/140\n",
      "1080/1080 [==============================] - 3s 3ms/step - loss: 0.4653 - acc: 0.8620 - val_loss: 0.6114 - val_acc: 0.7250\n",
      "Epoch 10/140\n",
      "1080/1080 [==============================] - 3s 3ms/step - loss: 0.4605 - acc: 0.8639 - val_loss: 0.6122 - val_acc: 0.7417\n",
      "Epoch 11/140\n",
      "1080/1080 [==============================] - 3s 3ms/step - loss: 0.4641 - acc: 0.8546 - val_loss: 0.6220 - val_acc: 0.7083\n",
      "Epoch 12/140\n",
      "1080/1080 [==============================] - 3s 3ms/step - loss: 0.4597 - acc: 0.8639 - val_loss: 0.6147 - val_acc: 0.7333\n",
      "Epoch 13/140\n",
      "1080/1080 [==============================] - 3s 2ms/step - loss: 0.4634 - acc: 0.8509 - val_loss: 0.6333 - val_acc: 0.7250\n",
      "Epoch 14/140\n",
      "1080/1080 [==============================] - 4s 3ms/step - loss: 0.4617 - acc: 0.8546 - val_loss: 0.6674 - val_acc: 0.7333\n",
      "Epoch 15/140\n",
      "1080/1080 [==============================] - 3s 3ms/step - loss: 0.4689 - acc: 0.8500 - val_loss: 0.6062 - val_acc: 0.7333\n",
      "Epoch 16/140\n",
      "1080/1080 [==============================] - 3s 3ms/step - loss: 0.4480 - acc: 0.8639 - val_loss: 0.5980 - val_acc: 0.7583\n",
      "Epoch 17/140\n",
      "1080/1080 [==============================] - 3s 3ms/step - loss: 0.4471 - acc: 0.8630 - val_loss: 0.5975 - val_acc: 0.7583\n",
      "Epoch 18/140\n",
      "1080/1080 [==============================] - 3s 3ms/step - loss: 0.4359 - acc: 0.8685 - val_loss: 0.5803 - val_acc: 0.7333\n",
      "Epoch 19/140\n",
      "1080/1080 [==============================] - 3s 3ms/step - loss: 0.4445 - acc: 0.8509 - val_loss: 0.5797 - val_acc: 0.7583\n",
      "Epoch 20/140\n",
      "1080/1080 [==============================] - 3s 2ms/step - loss: 0.4351 - acc: 0.8713 - val_loss: 0.5940 - val_acc: 0.7333\n",
      "Epoch 21/140\n",
      "1080/1080 [==============================] - 3s 2ms/step - loss: 0.4416 - acc: 0.8639 - val_loss: 0.5799 - val_acc: 0.7250\n",
      "Epoch 22/140\n",
      "1080/1080 [==============================] - 3s 2ms/step - loss: 0.4315 - acc: 0.8630 - val_loss: 0.5845 - val_acc: 0.7250\n",
      "Epoch 23/140\n",
      "1080/1080 [==============================] - 3s 2ms/step - loss: 0.4452 - acc: 0.8667 - val_loss: 0.5873 - val_acc: 0.7333\n",
      "Epoch 24/140\n",
      "1080/1080 [==============================] - 3s 2ms/step - loss: 0.4270 - acc: 0.8685 - val_loss: 0.6163 - val_acc: 0.7333\n",
      "Epoch 25/140\n",
      "1080/1080 [==============================] - 3s 3ms/step - loss: 0.4469 - acc: 0.8593 - val_loss: 0.6030 - val_acc: 0.7417\n",
      "Epoch 26/140\n",
      "1080/1080 [==============================] - 3s 2ms/step - loss: 0.4280 - acc: 0.8620 - val_loss: 0.5780 - val_acc: 0.7750\n",
      "Epoch 27/140\n",
      "1080/1080 [==============================] - 3s 3ms/step - loss: 0.4162 - acc: 0.8741 - val_loss: 0.5797 - val_acc: 0.7417\n",
      "Epoch 28/140\n",
      "1080/1080 [==============================] - 3s 3ms/step - loss: 0.4274 - acc: 0.8630 - val_loss: 0.5796 - val_acc: 0.7417\n",
      "Epoch 29/140\n",
      "1080/1080 [==============================] - 3s 3ms/step - loss: 0.4170 - acc: 0.8639 - val_loss: 0.5821 - val_acc: 0.7500\n",
      "Epoch 30/140\n",
      "1080/1080 [==============================] - 3s 3ms/step - loss: 0.4216 - acc: 0.8620 - val_loss: 0.5737 - val_acc: 0.7750\n",
      "Epoch 31/140\n",
      "1080/1080 [==============================] - 3s 3ms/step - loss: 0.4078 - acc: 0.8769 - val_loss: 0.5614 - val_acc: 0.7500\n",
      "Epoch 32/140\n",
      "1080/1080 [==============================] - 3s 3ms/step - loss: 0.4065 - acc: 0.8704 - val_loss: 0.5594 - val_acc: 0.7333\n",
      "Epoch 33/140\n",
      "1080/1080 [==============================] - 3s 3ms/step - loss: 0.4082 - acc: 0.8759 - val_loss: 0.5774 - val_acc: 0.7250\n",
      "Epoch 34/140\n",
      "1080/1080 [==============================] - 3s 3ms/step - loss: 0.4055 - acc: 0.8657 - val_loss: 0.5563 - val_acc: 0.7500\n",
      "Epoch 35/140\n",
      "1080/1080 [==============================] - 3s 3ms/step - loss: 0.3983 - acc: 0.8787 - val_loss: 0.5600 - val_acc: 0.7583\n",
      "Epoch 36/140\n",
      "1080/1080 [==============================] - 3s 2ms/step - loss: 0.4017 - acc: 0.8759 - val_loss: 0.5572 - val_acc: 0.7500\n",
      "Epoch 37/140\n",
      "1080/1080 [==============================] - 3s 3ms/step - loss: 0.3993 - acc: 0.8750 - val_loss: 0.5677 - val_acc: 0.7417\n",
      "Epoch 38/140\n",
      "1080/1080 [==============================] - 3s 3ms/step - loss: 0.4014 - acc: 0.8843 - val_loss: 0.5803 - val_acc: 0.7417\n",
      "Epoch 39/140\n",
      "1080/1080 [==============================] - 4s 4ms/step - loss: 0.4073 - acc: 0.8704 - val_loss: 0.5570 - val_acc: 0.7583\n",
      "Epoch 40/140\n",
      "1080/1080 [==============================] - 4s 4ms/step - loss: 0.4048 - acc: 0.8769 - val_loss: 0.6079 - val_acc: 0.7667\n",
      "Epoch 41/140\n",
      "1080/1080 [==============================] - 3s 3ms/step - loss: 0.3905 - acc: 0.8824 - val_loss: 0.5502 - val_acc: 0.7667\n",
      "Epoch 42/140\n",
      "1080/1080 [==============================] - 4s 4ms/step - loss: 0.3834 - acc: 0.8852 - val_loss: 0.5677 - val_acc: 0.7167\n",
      "Epoch 43/140\n",
      "1080/1080 [==============================] - 4s 3ms/step - loss: 0.4012 - acc: 0.8676 - val_loss: 0.5722 - val_acc: 0.7250\n",
      "Epoch 44/140\n",
      "1080/1080 [==============================] - 3s 3ms/step - loss: 0.3839 - acc: 0.8750 - val_loss: 0.5391 - val_acc: 0.7583\n",
      "Epoch 45/140\n",
      "1080/1080 [==============================] - 3s 3ms/step - loss: 0.3780 - acc: 0.8778 - val_loss: 0.5654 - val_acc: 0.7583\n",
      "Epoch 46/140\n",
      "1080/1080 [==============================] - 3s 3ms/step - loss: 0.3801 - acc: 0.8833 - val_loss: 0.5482 - val_acc: 0.7583\n",
      "Epoch 47/140\n",
      "1080/1080 [==============================] - 3s 3ms/step - loss: 0.3811 - acc: 0.8769 - val_loss: 0.5309 - val_acc: 0.7500\n",
      "Epoch 48/140\n",
      "1080/1080 [==============================] - 3s 3ms/step - loss: 0.3767 - acc: 0.8880 - val_loss: 0.5526 - val_acc: 0.7417\n",
      "Epoch 49/140\n",
      "1080/1080 [==============================] - 3s 3ms/step - loss: 0.3710 - acc: 0.8843 - val_loss: 0.5387 - val_acc: 0.7583\n",
      "Epoch 50/140\n",
      "1080/1080 [==============================] - 3s 3ms/step - loss: 0.3674 - acc: 0.8824 - val_loss: 0.5357 - val_acc: 0.7583\n",
      "Epoch 51/140\n",
      "1080/1080 [==============================] - 3s 3ms/step - loss: 0.3853 - acc: 0.8685 - val_loss: 0.5660 - val_acc: 0.7417\n",
      "Epoch 52/140\n",
      "1080/1080 [==============================] - 3s 3ms/step - loss: 0.3834 - acc: 0.8722 - val_loss: 0.5877 - val_acc: 0.7583\n",
      "Epoch 53/140\n",
      "1080/1080 [==============================] - 4s 4ms/step - loss: 0.3872 - acc: 0.8722 - val_loss: 0.5382 - val_acc: 0.7500\n",
      "Epoch 54/140\n",
      "1080/1080 [==============================] - 4s 4ms/step - loss: 0.3682 - acc: 0.8889 - val_loss: 0.5490 - val_acc: 0.7667\n",
      "Epoch 55/140\n",
      "1080/1080 [==============================] - 4s 4ms/step - loss: 0.3623 - acc: 0.8787 - val_loss: 0.5311 - val_acc: 0.7667\n",
      "Epoch 56/140\n",
      "1080/1080 [==============================] - 4s 3ms/step - loss: 0.3608 - acc: 0.8815 - val_loss: 0.5288 - val_acc: 0.7500\n",
      "Epoch 57/140\n",
      "1080/1080 [==============================] - 4s 4ms/step - loss: 0.3586 - acc: 0.8880 - val_loss: 0.5357 - val_acc: 0.7500\n",
      "Epoch 58/140\n",
      "1080/1080 [==============================] - 4s 4ms/step - loss: 0.3558 - acc: 0.8889 - val_loss: 0.5345 - val_acc: 0.7750\n",
      "Epoch 59/140\n",
      "1080/1080 [==============================] - 4s 4ms/step - loss: 0.3645 - acc: 0.8880 - val_loss: 0.5642 - val_acc: 0.7500\n",
      "Epoch 60/140\n",
      "1080/1080 [==============================] - 3s 3ms/step - loss: 0.3616 - acc: 0.8889 - val_loss: 0.5265 - val_acc: 0.7667\n"
     ]
    },
    {
     "name": "stdout",
     "output_type": "stream",
     "text": [
      "Epoch 61/140\n",
      "1080/1080 [==============================] - 3s 3ms/step - loss: 0.3530 - acc: 0.8806 - val_loss: 0.5166 - val_acc: 0.7500\n",
      "Epoch 62/140\n",
      "1080/1080 [==============================] - 3s 3ms/step - loss: 0.3467 - acc: 0.8861 - val_loss: 0.5302 - val_acc: 0.7667\n",
      "Epoch 63/140\n",
      "1080/1080 [==============================] - 3s 3ms/step - loss: 0.3471 - acc: 0.8907 - val_loss: 0.5155 - val_acc: 0.7500\n",
      "Epoch 64/140\n",
      "1080/1080 [==============================] - 3s 3ms/step - loss: 0.3431 - acc: 0.8926 - val_loss: 0.5323 - val_acc: 0.7500\n",
      "Epoch 65/140\n",
      "1080/1080 [==============================] - 3s 3ms/step - loss: 0.3435 - acc: 0.8917 - val_loss: 0.5467 - val_acc: 0.7333\n",
      "Epoch 66/140\n",
      "1080/1080 [==============================] - 3s 2ms/step - loss: 0.3444 - acc: 0.8889 - val_loss: 0.5564 - val_acc: 0.7583\n",
      "Epoch 67/140\n",
      "1080/1080 [==============================] - 3s 3ms/step - loss: 0.3476 - acc: 0.8935 - val_loss: 0.5485 - val_acc: 0.7417\n",
      "Epoch 68/140\n",
      "1080/1080 [==============================] - 4s 3ms/step - loss: 0.3463 - acc: 0.8843 - val_loss: 0.5214 - val_acc: 0.7333\n",
      "Epoch 69/140\n",
      "1080/1080 [==============================] - 4s 3ms/step - loss: 0.3392 - acc: 0.8870 - val_loss: 0.5473 - val_acc: 0.7750\n",
      "Epoch 70/140\n",
      "1080/1080 [==============================] - 3s 3ms/step - loss: 0.3296 - acc: 0.8972 - val_loss: 0.5367 - val_acc: 0.7500\n",
      "Epoch 71/140\n",
      "1080/1080 [==============================] - 3s 3ms/step - loss: 0.3368 - acc: 0.8852 - val_loss: 0.5378 - val_acc: 0.7833\n",
      "Epoch 72/140\n",
      "1080/1080 [==============================] - 3s 3ms/step - loss: 0.3347 - acc: 0.8935 - val_loss: 0.5224 - val_acc: 0.7833\n",
      "Epoch 73/140\n",
      "1080/1080 [==============================] - 3s 3ms/step - loss: 0.3291 - acc: 0.8991 - val_loss: 0.5335 - val_acc: 0.7583\n",
      "Epoch 74/140\n",
      "1080/1080 [==============================] - 3s 3ms/step - loss: 0.3314 - acc: 0.8935 - val_loss: 0.5171 - val_acc: 0.7500\n",
      "Epoch 75/140\n",
      "1080/1080 [==============================] - 3s 3ms/step - loss: 0.3234 - acc: 0.9000 - val_loss: 0.5054 - val_acc: 0.7750\n",
      "Epoch 76/140\n",
      "1080/1080 [==============================] - 4s 4ms/step - loss: 0.3245 - acc: 0.8917 - val_loss: 0.5157 - val_acc: 0.7500\n",
      "Epoch 77/140\n",
      "1080/1080 [==============================] - 4s 3ms/step - loss: 0.3190 - acc: 0.9046 - val_loss: 0.5142 - val_acc: 0.7833\n",
      "Epoch 78/140\n",
      "1080/1080 [==============================] - 3s 3ms/step - loss: 0.3191 - acc: 0.8954 - val_loss: 0.5087 - val_acc: 0.7917\n",
      "Epoch 79/140\n",
      "1080/1080 [==============================] - 3s 3ms/step - loss: 0.3284 - acc: 0.8917 - val_loss: 0.5222 - val_acc: 0.7667\n",
      "Epoch 80/140\n",
      "1080/1080 [==============================] - 3s 3ms/step - loss: 0.3249 - acc: 0.8898 - val_loss: 0.5103 - val_acc: 0.7917\n",
      "Epoch 81/140\n",
      "1080/1080 [==============================] - 4s 4ms/step - loss: 0.3178 - acc: 0.9019 - val_loss: 0.5114 - val_acc: 0.7917\n",
      "Epoch 82/140\n",
      "1080/1080 [==============================] - 3s 3ms/step - loss: 0.3147 - acc: 0.9009 - val_loss: 0.4990 - val_acc: 0.7750\n",
      "Epoch 83/140\n",
      "1080/1080 [==============================] - 3s 3ms/step - loss: 0.3132 - acc: 0.9046 - val_loss: 0.5252 - val_acc: 0.7750\n",
      "Epoch 84/140\n",
      "1080/1080 [==============================] - 3s 3ms/step - loss: 0.3243 - acc: 0.8944 - val_loss: 0.5767 - val_acc: 0.7583\n",
      "Epoch 85/140\n",
      "1080/1080 [==============================] - 3s 3ms/step - loss: 0.3227 - acc: 0.8972 - val_loss: 0.5373 - val_acc: 0.7583\n",
      "Epoch 86/140\n",
      "1080/1080 [==============================] - 3s 3ms/step - loss: 0.3273 - acc: 0.8880 - val_loss: 0.5181 - val_acc: 0.7417\n",
      "Epoch 87/140\n",
      "1080/1080 [==============================] - 3s 3ms/step - loss: 0.3154 - acc: 0.9028 - val_loss: 0.4984 - val_acc: 0.7833\n",
      "Epoch 88/140\n",
      "1080/1080 [==============================] - 3s 3ms/step - loss: 0.3087 - acc: 0.8991 - val_loss: 0.5120 - val_acc: 0.8083\n",
      "Epoch 89/140\n",
      "1080/1080 [==============================] - 4s 3ms/step - loss: 0.3319 - acc: 0.8944 - val_loss: 0.5443 - val_acc: 0.7500\n",
      "Epoch 90/140\n",
      "1080/1080 [==============================] - 4s 3ms/step - loss: 0.3088 - acc: 0.9037 - val_loss: 0.5313 - val_acc: 0.7417\n",
      "Epoch 91/140\n",
      "1080/1080 [==============================] - 4s 4ms/step - loss: 0.3079 - acc: 0.9037 - val_loss: 0.5015 - val_acc: 0.7500\n",
      "Epoch 92/140\n",
      "1080/1080 [==============================] - 3s 3ms/step - loss: 0.3026 - acc: 0.9083 - val_loss: 0.5006 - val_acc: 0.8167\n",
      "Epoch 93/140\n",
      "1080/1080 [==============================] - 4s 3ms/step - loss: 0.2974 - acc: 0.9037 - val_loss: 0.5084 - val_acc: 0.7667\n",
      "Epoch 94/140\n",
      "1080/1080 [==============================] - 3s 3ms/step - loss: 0.3035 - acc: 0.9019 - val_loss: 0.4867 - val_acc: 0.7917\n",
      "Epoch 95/140\n",
      "1080/1080 [==============================] - 3s 3ms/step - loss: 0.3016 - acc: 0.8972 - val_loss: 0.4864 - val_acc: 0.7667\n",
      "Epoch 96/140\n",
      "1080/1080 [==============================] - 4s 4ms/step - loss: 0.2983 - acc: 0.9019 - val_loss: 0.5135 - val_acc: 0.7583\n",
      "Epoch 97/140\n",
      "1080/1080 [==============================] - 3s 3ms/step - loss: 0.2953 - acc: 0.9056 - val_loss: 0.5018 - val_acc: 0.7750\n",
      "Epoch 98/140\n",
      "1080/1080 [==============================] - 3s 3ms/step - loss: 0.2910 - acc: 0.9139 - val_loss: 0.4871 - val_acc: 0.7833\n",
      "Epoch 99/140\n",
      "1080/1080 [==============================] - 3s 3ms/step - loss: 0.2891 - acc: 0.9056 - val_loss: 0.4770 - val_acc: 0.7833\n",
      "Epoch 100/140\n",
      "1080/1080 [==============================] - 3s 3ms/step - loss: 0.2939 - acc: 0.9065 - val_loss: 0.4801 - val_acc: 0.8000\n",
      "Epoch 101/140\n",
      "1080/1080 [==============================] - 3s 3ms/step - loss: 0.2888 - acc: 0.9065 - val_loss: 0.4854 - val_acc: 0.8000\n",
      "Epoch 102/140\n",
      "1080/1080 [==============================] - 3s 3ms/step - loss: 0.2868 - acc: 0.9111 - val_loss: 0.4798 - val_acc: 0.7833\n",
      "Epoch 103/140\n",
      "1080/1080 [==============================] - 4s 3ms/step - loss: 0.2908 - acc: 0.9046 - val_loss: 0.4974 - val_acc: 0.7833\n",
      "Epoch 104/140\n",
      "1080/1080 [==============================] - 3s 2ms/step - loss: 0.3026 - acc: 0.8981 - val_loss: 0.4845 - val_acc: 0.8000\n",
      "Epoch 105/140\n",
      "1080/1080 [==============================] - 3s 3ms/step - loss: 0.2923 - acc: 0.8972 - val_loss: 0.5077 - val_acc: 0.7417\n",
      "Epoch 106/140\n",
      "1080/1080 [==============================] - 3s 3ms/step - loss: 0.2914 - acc: 0.8991 - val_loss: 0.4968 - val_acc: 0.8083\n",
      "Epoch 107/140\n",
      "1080/1080 [==============================] - 3s 3ms/step - loss: 0.2926 - acc: 0.9046 - val_loss: 0.4782 - val_acc: 0.7667\n",
      "Epoch 108/140\n",
      "1080/1080 [==============================] - 3s 3ms/step - loss: 0.2807 - acc: 0.9065 - val_loss: 0.4744 - val_acc: 0.8000\n",
      "Epoch 109/140\n",
      "1080/1080 [==============================] - 3s 3ms/step - loss: 0.2919 - acc: 0.9046 - val_loss: 0.4730 - val_acc: 0.7750\n",
      "Epoch 110/140\n",
      "1080/1080 [==============================] - 3s 3ms/step - loss: 0.2821 - acc: 0.9111 - val_loss: 0.4825 - val_acc: 0.8167\n",
      "Epoch 111/140\n",
      "1080/1080 [==============================] - 3s 3ms/step - loss: 0.2829 - acc: 0.9130 - val_loss: 0.4815 - val_acc: 0.8000\n",
      "Epoch 112/140\n",
      "1080/1080 [==============================] - 4s 4ms/step - loss: 0.2814 - acc: 0.9185 - val_loss: 0.5007 - val_acc: 0.7583\n",
      "Epoch 113/140\n",
      "1080/1080 [==============================] - 3s 3ms/step - loss: 0.2780 - acc: 0.9102 - val_loss: 0.5089 - val_acc: 0.7667\n",
      "Epoch 114/140\n",
      "1080/1080 [==============================] - 3s 3ms/step - loss: 0.2801 - acc: 0.9102 - val_loss: 0.4884 - val_acc: 0.7917\n",
      "Epoch 115/140\n",
      "1080/1080 [==============================] - 4s 4ms/step - loss: 0.2691 - acc: 0.9139 - val_loss: 0.4718 - val_acc: 0.7750\n",
      "Epoch 116/140\n",
      "1080/1080 [==============================] - 3s 3ms/step - loss: 0.2823 - acc: 0.9074 - val_loss: 0.4687 - val_acc: 0.7917\n",
      "Epoch 117/140\n",
      "1080/1080 [==============================] - 3s 3ms/step - loss: 0.2820 - acc: 0.9083 - val_loss: 0.4773 - val_acc: 0.8083\n",
      "Epoch 118/140\n",
      "1080/1080 [==============================] - 3s 3ms/step - loss: 0.2761 - acc: 0.9056 - val_loss: 0.4701 - val_acc: 0.8000\n",
      "Epoch 119/140\n",
      "1080/1080 [==============================] - 4s 3ms/step - loss: 0.2752 - acc: 0.9046 - val_loss: 0.4955 - val_acc: 0.8000\n",
      "Epoch 120/140\n",
      "1080/1080 [==============================] - 4s 4ms/step - loss: 0.2773 - acc: 0.9130 - val_loss: 0.4743 - val_acc: 0.8083\n",
      "Epoch 121/140\n"
     ]
    },
    {
     "name": "stdout",
     "output_type": "stream",
     "text": [
      "1080/1080 [==============================] - 3s 3ms/step - loss: 0.2864 - acc: 0.8981 - val_loss: 0.5044 - val_acc: 0.8000\n",
      "Epoch 122/140\n",
      "1080/1080 [==============================] - 3s 3ms/step - loss: 0.2834 - acc: 0.9130 - val_loss: 0.4999 - val_acc: 0.7750\n",
      "Epoch 123/140\n",
      "1080/1080 [==============================] - 3s 3ms/step - loss: 0.2596 - acc: 0.9167 - val_loss: 0.4585 - val_acc: 0.7833\n",
      "Epoch 124/140\n",
      "1080/1080 [==============================] - 3s 3ms/step - loss: 0.2637 - acc: 0.9111 - val_loss: 0.5035 - val_acc: 0.7667\n",
      "Epoch 125/140\n",
      "1080/1080 [==============================] - 3s 3ms/step - loss: 0.2745 - acc: 0.9065 - val_loss: 0.4653 - val_acc: 0.7833\n",
      "Epoch 126/140\n",
      "1080/1080 [==============================] - 3s 3ms/step - loss: 0.2572 - acc: 0.9157 - val_loss: 0.4865 - val_acc: 0.8167\n",
      "Epoch 127/140\n",
      "1080/1080 [==============================] - 3s 3ms/step - loss: 0.2595 - acc: 0.9278 - val_loss: 0.5012 - val_acc: 0.7750\n",
      "Epoch 128/140\n",
      "1080/1080 [==============================] - 3s 3ms/step - loss: 0.2692 - acc: 0.9093 - val_loss: 0.4960 - val_acc: 0.7750\n",
      "Epoch 129/140\n",
      "1080/1080 [==============================] - 3s 3ms/step - loss: 0.2628 - acc: 0.9167 - val_loss: 0.5143 - val_acc: 0.7667\n",
      "Epoch 130/140\n",
      "1080/1080 [==============================] - 4s 3ms/step - loss: 0.2593 - acc: 0.9185 - val_loss: 0.4870 - val_acc: 0.8000\n",
      "Epoch 131/140\n",
      "1080/1080 [==============================] - 4s 4ms/step - loss: 0.2576 - acc: 0.9157 - val_loss: 0.4706 - val_acc: 0.8250\n",
      "Epoch 132/140\n",
      "1080/1080 [==============================] - 3s 3ms/step - loss: 0.2512 - acc: 0.9213 - val_loss: 0.4771 - val_acc: 0.8083\n",
      "Epoch 133/140\n",
      "1080/1080 [==============================] - 3s 3ms/step - loss: 0.2504 - acc: 0.9259 - val_loss: 0.4582 - val_acc: 0.8167\n",
      "Epoch 134/140\n",
      "1080/1080 [==============================] - 3s 3ms/step - loss: 0.2498 - acc: 0.9194 - val_loss: 0.4760 - val_acc: 0.8083\n",
      "Epoch 135/140\n",
      "1080/1080 [==============================] - 3s 3ms/step - loss: 0.2523 - acc: 0.9185 - val_loss: 0.4794 - val_acc: 0.7833\n",
      "Epoch 136/140\n",
      "1080/1080 [==============================] - 3s 3ms/step - loss: 0.2523 - acc: 0.9241 - val_loss: 0.5214 - val_acc: 0.8167\n",
      "Epoch 137/140\n",
      "1080/1080 [==============================] - 3s 3ms/step - loss: 0.2510 - acc: 0.9185 - val_loss: 0.4964 - val_acc: 0.8083\n",
      "Epoch 138/140\n",
      "1080/1080 [==============================] - 3s 3ms/step - loss: 0.2510 - acc: 0.9139 - val_loss: 0.4612 - val_acc: 0.8083\n",
      "Epoch 139/140\n",
      "1080/1080 [==============================] - 3s 3ms/step - loss: 0.2473 - acc: 0.9176 - val_loss: 0.4468 - val_acc: 0.8000\n",
      "Epoch 140/140\n",
      "1080/1080 [==============================] - 3s 3ms/step - loss: 0.2490 - acc: 0.9213 - val_loss: 0.4667 - val_acc: 0.8083\n"
     ]
    },
    {
     "data": {
      "text/plain": [
       "<keras.callbacks.History at 0x15a31db60f0>"
      ]
     },
     "execution_count": 14,
     "metadata": {},
     "output_type": "execute_result"
    }
   ],
   "source": [
    "model.fit(x_train,y_train,epochs=140,batch_size=64,validation_data=(x_test,y_test))"
   ]
  },
  {
   "cell_type": "code",
   "execution_count": 15,
   "metadata": {},
   "outputs": [
    {
     "name": "stdout",
     "output_type": "stream",
     "text": [
      "120/120 [==============================] - 0s 2ms/step\n"
     ]
    }
   ],
   "source": [
    "score=model.evaluate(x_test,y_test,batch_size=64)"
   ]
  },
  {
   "cell_type": "code",
   "execution_count": 16,
   "metadata": {},
   "outputs": [
    {
     "name": "stdout",
     "output_type": "stream",
     "text": [
      "test_loss:  0.46667462786038716\n",
      "test accuracy: 0.8083333452542623\n"
     ]
    }
   ],
   "source": [
    "print('test_loss: ',score[0])\n",
    "print('test accuracy:',score[1])"
   ]
  },
  {
   "cell_type": "code",
   "execution_count": 17,
   "metadata": {},
   "outputs": [
    {
     "data": {
      "text/plain": [
       "['loss', 'acc']"
      ]
     },
     "execution_count": 17,
     "metadata": {},
     "output_type": "execute_result"
    }
   ],
   "source": [
    "model.metrics_names"
   ]
  },
  {
   "cell_type": "code",
   "execution_count": 26,
   "metadata": {},
   "outputs": [],
   "source": [
    "y_pred=model.predict(x_test)\n",
    "#y_pred"
   ]
  },
  {
   "cell_type": "code",
   "execution_count": 28,
   "metadata": {},
   "outputs": [
    {
     "data": {
      "text/plain": [
       "(120, 64, 64, 3)"
      ]
     },
     "execution_count": 28,
     "metadata": {},
     "output_type": "execute_result"
    }
   ],
   "source": [
    "x_test.shape"
   ]
  },
  {
   "cell_type": "code",
   "execution_count": 116,
   "metadata": {},
   "outputs": [],
   "source": [
    "yy_pred=[np.argmax(y, axis=None, out=None) for y in y_pred]"
   ]
  },
  {
   "cell_type": "code",
   "execution_count": 117,
   "metadata": {},
   "outputs": [],
   "source": [
    "yy_test=[np.argmax(y, axis=None, out=None) for y in y_test]"
   ]
  },
  {
   "cell_type": "code",
   "execution_count": 118,
   "metadata": {},
   "outputs": [],
   "source": [
    "yy_pred=np.array(yy_pred)\n",
    "yy_test=np.array(yy_test)"
   ]
  },
  {
   "cell_type": "code",
   "execution_count": 119,
   "metadata": {},
   "outputs": [
    {
     "data": {
      "text/plain": [
       "array([0, 0, 0, 5, 1, 0, 3, 1, 5, 2, 5, 1, 3, 1, 1, 3, 5, 5, 0, 4, 5, 4,\n",
       "       2, 5, 3, 5, 4, 1, 1, 4, 3, 1, 0, 5, 1, 1, 0, 2, 1, 3, 0, 3, 0, 2,\n",
       "       3, 1, 1, 2, 0, 4, 4, 2, 3, 0, 4, 0, 4, 0, 2, 4, 5, 2, 2, 4, 0, 5,\n",
       "       0, 1, 3, 5, 0, 5, 1, 1, 3, 4, 3, 5, 1, 5, 2, 0, 1, 0, 2, 2, 4, 1,\n",
       "       4, 5, 5, 0, 0, 5, 5, 5, 3, 3, 5, 2, 2, 2, 0, 1, 5, 3, 0, 1, 3, 4,\n",
       "       1, 2, 2, 4, 2, 5, 1, 3, 2, 3], dtype=int64)"
      ]
     },
     "execution_count": 119,
     "metadata": {},
     "output_type": "execute_result"
    }
   ],
   "source": [
    "yy_pred"
   ]
  },
  {
   "cell_type": "code",
   "execution_count": 120,
   "metadata": {},
   "outputs": [
    {
     "data": {
      "text/plain": [
       "array([0, 0, 0, 5, 1, 0, 3, 1, 5, 1, 5, 1, 3, 1, 1, 3, 5, 4, 0, 4, 5, 4,\n",
       "       2, 5, 3, 5, 4, 2, 1, 2, 3, 1, 0, 3, 1, 1, 0, 4, 2, 3, 0, 3, 0, 2,\n",
       "       3, 1, 2, 2, 0, 3, 4, 1, 2, 0, 4, 0, 4, 0, 4, 4, 5, 5, 2, 4, 4, 5,\n",
       "       0, 1, 3, 5, 0, 4, 1, 2, 3, 4, 3, 5, 1, 5, 2, 0, 1, 4, 2, 4, 4, 1,\n",
       "       4, 5, 5, 0, 0, 5, 5, 5, 3, 3, 5, 2, 2, 2, 0, 2, 5, 3, 0, 2, 3, 4,\n",
       "       1, 3, 2, 4, 2, 2, 1, 3, 1, 3], dtype=int64)"
      ]
     },
     "execution_count": 120,
     "metadata": {},
     "output_type": "execute_result"
    }
   ],
   "source": [
    "yy_test"
   ]
  },
  {
   "cell_type": "markdown",
   "metadata": {},
   "source": [
    "## read image from the system"
   ]
  },
  {
   "cell_type": "code",
   "execution_count": 127,
   "metadata": {},
   "outputs": [
    {
     "data": {
      "text/plain": [
       "<matplotlib.image.AxesImage at 0x15a3201d208>"
      ]
     },
     "execution_count": 127,
     "metadata": {},
     "output_type": "execute_result"
    },
    {
     "data": {
      "image/png": "[encoded data removed]",
      "text/plain": [
       "<Figure size 432x288 with 1 Axes>"
      ]
     },
     "metadata": {},
     "output_type": "display_data"
    }
   ],
   "source": [
    "import cv2\n",
    "img=cv2.imread('two.jpeg')\n",
    "#o_p=model.predict(img)\n",
    "img=img/255\n",
    "tt=cv2.resize(img,(64,64))\n",
    "tt.shape\n",
    "plt.imshow(tt)\n"
   ]
  },
  {
   "cell_type": "markdown",
   "metadata": {},
   "source": [
    "### use this particular function to predict over a single instance\n",
    "#### (ii=model.predict(np.expand_dims(tt,axis=0)))\n"
   ]
  },
  {
   "cell_type": "code",
   "execution_count": 128,
   "metadata": {},
   "outputs": [],
   "source": [
    "ii=model.predict(np.expand_dims(tt,axis=0))"
   ]
  },
  {
   "cell_type": "code",
   "execution_count": 129,
   "metadata": {},
   "outputs": [
    {
     "data": {
      "text/plain": [
       "array([[8.7165019e-05, 2.1509833e-05, 7.3956251e-01, 1.8747884e-05,\n",
       "        2.2144110e-05, 2.6028788e-01]], dtype=float32)"
      ]
     },
     "execution_count": 129,
     "metadata": {},
     "output_type": "execute_result"
    }
   ],
   "source": [
    "ii"
   ]
  },
  {
   "cell_type": "markdown",
   "metadata": {},
   "source": [
    "### convert the binary class metric to class values"
   ]
  },
  {
   "cell_type": "code",
   "execution_count": 130,
   "metadata": {},
   "outputs": [],
   "source": [
    "ii_pred=[np.argmax(y, axis=None, out=None) for y in ii]"
   ]
  },
  {
   "cell_type": "code",
   "execution_count": 131,
   "metadata": {},
   "outputs": [],
   "source": [
    "ii_pred=np.array(ii_pred)"
   ]
  },
  {
   "cell_type": "code",
   "execution_count": 132,
   "metadata": {},
   "outputs": [
    {
     "data": {
      "text/plain": [
       "array([2], dtype=int64)"
      ]
     },
     "execution_count": 132,
     "metadata": {},
     "output_type": "execute_result"
    }
   ],
   "source": [
    "ii_pred"
   ]
  },
  {
   "cell_type": "code",
   "execution_count": null,
   "metadata": {},
   "outputs": [],
   "source": []
  }
 ],
 "metadata": {
  "kernelspec": {
   "display_name": "Python 3",
   "language": "python",
   "name": "python3"
  },
  "language_info": {
   "codemirror_mode": {
    "name": "ipython",
    "version": 3
   },
   "file_extension": ".py",
   "mimetype": "text/x-python",
   "name": "python",
   "nbconvert_exporter": "python",
   "pygments_lexer": "ipython3",
   "version": "3.6.5"
  }
 },
 "nbformat": 4,
 "nbformat_minor": 2
}
